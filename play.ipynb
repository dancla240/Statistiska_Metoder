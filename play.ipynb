{
 "cells": [
  {
   "cell_type": "code",
   "execution_count": 3,
   "metadata": {},
   "outputs": [
    {
     "name": "stderr",
     "output_type": "stream",
     "text": [
      "C:\\Users\\danie\\AppData\\Local\\Temp\\ipykernel_3596\\3257387896.py:1: DeprecationWarning: \n",
      "Pyarrow will become a required dependency of pandas in the next major release of pandas (pandas 3.0),\n",
      "(to allow more performant data types, such as the Arrow string type, and better interoperability with other libraries)\n",
      "but was not found to be installed on your system.\n",
      "If this would cause problems for you,\n",
      "please provide us feedback at https://github.com/pandas-dev/pandas/issues/54466\n",
      "        \n",
      "  import pandas as pd\n"
     ]
    }
   ],
   "source": [
    "import pandas as pd\n",
    "import numpy as np\n",
    "import scipy.stats as scs\n",
    "import warnings\n",
    "import matplotlib.pyplot as plt\n",
    "warnings.filterwarnings(category=FutureWarning, action=\"ignore\") # Denna hindrar vissa varningar för att visas."
   ]
  },
  {
   "cell_type": "code",
   "execution_count": 4,
   "metadata": {},
   "outputs": [],
   "source": [
    "skolk = pd.DataFrame({'col1': [23, 45, 65, 32, 12, 30, 18]})"
   ]
  },
  {
   "cell_type": "markdown",
   "metadata": {},
   "source": [
    "Medelvärdet"
   ]
  },
  {
   "cell_type": "code",
   "execution_count": 5,
   "metadata": {},
   "outputs": [
    {
     "data": {
      "text/plain": [
       "32.142857142857146"
      ]
     },
     "execution_count": 5,
     "metadata": {},
     "output_type": "execute_result"
    }
   ],
   "source": [
    "skolk['col1'].mean() # pandas för att beräkna medelvärdet"
   ]
  },
  {
   "cell_type": "code",
   "execution_count": 6,
   "metadata": {},
   "outputs": [
    {
     "data": {
      "text/plain": [
       "32.142857142857146"
      ]
     },
     "execution_count": 6,
     "metadata": {},
     "output_type": "execute_result"
    }
   ],
   "source": [
    "np.mean(skolk) # numpy för att beräkna medelvärdet"
   ]
  },
  {
   "cell_type": "code",
   "execution_count": 7,
   "metadata": {},
   "outputs": [
    {
     "data": {
      "text/plain": [
       "32.142857142857146"
      ]
     },
     "execution_count": 7,
     "metadata": {},
     "output_type": "execute_result"
    }
   ],
   "source": [
    "np.mean(skolk['col1']) # numpy för att beräkna medelvärdet, men man anger även kolumnens namn för tydlighets skull, eller om det finns flera kolumner."
   ]
  },
  {
   "cell_type": "markdown",
   "metadata": {},
   "source": [
    "Stickprovsstandardavvikelse"
   ]
  },
  {
   "cell_type": "code",
   "execution_count": 8,
   "metadata": {},
   "outputs": [
    {
     "data": {
      "text/plain": [
       "17.976174708286997"
      ]
     },
     "execution_count": 8,
     "metadata": {},
     "output_type": "execute_result"
    }
   ],
   "source": [
    "skolk['col1'].std()"
   ]
  },
  {
   "cell_type": "code",
   "execution_count": 9,
   "metadata": {},
   "outputs": [
    {
     "data": {
      "text/plain": [
       "col1    17.976175\n",
       "dtype: float64"
      ]
     },
     "execution_count": 9,
     "metadata": {},
     "output_type": "execute_result"
    }
   ],
   "source": [
    "np.std(skolk, ddof=1) # numpy för att beräkna stickprovsstandardavvikelsen. Ange ddof=1 för att få 'n-1'."
   ]
  },
  {
   "cell_type": "markdown",
   "metadata": {},
   "source": [
    "### Scipy\n",
    "\n"
   ]
  },
  {
   "cell_type": "code",
   "execution_count": 10,
   "metadata": {},
   "outputs": [],
   "source": [
    "from scipy.stats import norm #importerar normalfördelningen"
   ]
  },
  {
   "cell_type": "markdown",
   "metadata": {},
   "source": [
    "### Cumulative Distribution Function, cdf()\n",
    "- Beräknar den kumulativa sannolikheten i en given punkt, givet x-värde, medelvärde och standardavvikelse.\n",
    "- Input argument:\n",
    "    - x = x-värde/-n\n",
    "    - loc = medelvärde\n",
    "    - scale = standardavvikelse\n",
    "- returnerar: kumulativa sannolikheten för angivet x-värde.\n",
    "\n",
    "P(X $\\leq$ x) = F(x).</li>"
   ]
  },
  {
   "cell_type": "code",
   "execution_count": 11,
   "metadata": {},
   "outputs": [],
   "source": [
    "x = np.linspace(-5, 5, 1000) # skapart en x-axel\n",
    "y_cdf = norm.cdf(x=x, loc=0, scale=1)"
   ]
  },
  {
   "cell_type": "markdown",
   "metadata": {},
   "source": [
    "### Percentile Point Function, ppf()\n",
    "- .ppf() tar in en sannolikhet mellan 0 och 1, tex 0.975 och returnerar x-värdet, för en normalfördelning där man anger medelvärde och standardavvikelse.\n",
    "- Input argument:\n",
    "    - loc = medelvärde\n",
    "    - scale = standardavvikelse\n",
    "    - q = sannolikhet, 0-1\n",
    "- ruturnerar: x-värdet för den angivna sannolikheten."
   ]
  },
  {
   "cell_type": "code",
   "execution_count": 12,
   "metadata": {},
   "outputs": [
    {
     "name": "stdout",
     "output_type": "stream",
     "text": [
      "[ 6.98854624  8.00092279  9.00018491 10.         10.99981509 11.64485363\n",
      " 11.95996398]\n"
     ]
    }
   ],
   "source": [
    "q = np.array([0.0013, 0.0228, 0.1587, 0.5, 0.8413, 0.95, 0.975])\n",
    "y_ppf = norm.ppf(loc=10, scale=1, q=q)\n",
    "print(y_ppf)"
   ]
  },
  {
   "cell_type": "markdown",
   "metadata": {},
   "source": [
    "### Probability Density Function, pdf()\n",
    "- Beräknar täthetsfunktionen i en given punkt.</li>\n",
    "- pdf(x, loc, scale), x=x-värdena som en np-array, loc=mitten, scale=standardavvikelse\n",
    "- funktionen beräknar så att säga y-värdena"
   ]
  },
  {
   "cell_type": "code",
   "execution_count": 13,
   "metadata": {},
   "outputs": [
    {
     "data": {
      "image/png": "[encoded data removed]",
      "text/plain": [
       "<Figure size 400x400 with 1 Axes>"
      ]
     },
     "metadata": {},
     "output_type": "display_data"
    }
   ],
   "source": [
    "y_pdf = norm.pdf(x=x, loc=0, scale=1)\n",
    "fig, ax = plt.subplots()\n",
    "fig.set_figheight(4)\n",
    "fig.set_figwidth(4)\n",
    "fig.suptitle('SciPy functions')\n",
    "ax.plot(x, y_cdf, label='cdf')\n",
    "ax.plot(x, y_pdf, label='pdf')\n",
    "ax.legend()\n",
    "ax.grid()\n",
    "#scipy.stats.norm.cdf()"
   ]
  },
  {
   "cell_type": "markdown",
   "metadata": {},
   "source": [
    ", ppf()\n",
    "- "
   ]
  },
  {
   "cell_type": "markdown",
   "metadata": {},
   "source": [
    "### Probability Mass Function, pmf()\n",
    "- För diskreta fördelningar endast. (Motsvarar pdf för kontinuerliga fördelningar.)\n",
    "- Beräknar sannolikheten P(X=x).\n",
    "\n",
    "P(X=x) = F(x).</li>\n"
   ]
  },
  {
   "cell_type": "code",
   "execution_count": 14,
   "metadata": {},
   "outputs": [
    {
     "name": "stdout",
     "output_type": "stream",
     "text": [
      "0.22765622036690183\n"
     ]
    }
   ],
   "source": [
    "from scipy.stats import binom # importerar binomialfördelningen\n",
    "n = 30\n",
    "p = 0.1\n",
    "result = binom.pmf(k=2, n=n, p=p)\n",
    "print(result)"
   ]
  },
  {
   "cell_type": "code",
   "execution_count": 15,
   "metadata": {},
   "outputs": [
    {
     "data": {
      "text/plain": [
       "<BarContainer object of 11 artists>"
      ]
     },
     "execution_count": 15,
     "metadata": {},
     "output_type": "execute_result"
    },
    {
     "data": {
      "image/png": "[encoded data removed]",
      "text/plain": [
       "<Figure size 640x480 with 2 Axes>"
      ]
     },
     "metadata": {},
     "output_type": "display_data"
    }
   ],
   "source": [
    "k_array =  np.linspace(0,10, 11)\n",
    "binom_pmf = binom.pmf(k=k_array, n=n, p=p)\n",
    "binom_cdf = binom.cdf(k=k_array, n=n, p=p)\n",
    "fig, ax = plt.subplots(1,2, sharex=True)\n",
    "plt.xticks(range(len(k_array)))\n",
    "ax[0].bar(x=k_array, height=binom_pmf)\n",
    "ax[1].bar(x=k_array, height=binom_cdf)"
   ]
  },
  {
   "cell_type": "markdown",
   "metadata": {},
   "source": [
    "### Interval()\n",
    "- Beräknar ett konfidensintervall, kommer mest användas med normal- och t-fördelningen."
   ]
  },
  {
   "cell_type": "code",
   "execution_count": null,
   "metadata": {},
   "outputs": [],
   "source": []
  },
  {
   "cell_type": "markdown",
   "metadata": {},
   "source": [
    "## Övningstenta 1:"
   ]
  },
  {
   "cell_type": "markdown",
   "metadata": {},
   "source": [
    "3c. Värdet på 𝑧 som tillfredsställer uttrycket 𝑃(𝑍≤𝑧)=0.025. Utgå från standardnormalfördelningen. (2p)"
   ]
  },
  {
   "cell_type": "code",
   "execution_count": 17,
   "metadata": {},
   "outputs": [
    {
     "data": {
      "text/plain": [
       "-1.9599639845400545"
      ]
     },
     "execution_count": 17,
     "metadata": {},
     "output_type": "execute_result"
    }
   ],
   "source": [
    "scs.norm.ppf(0.025)\n",
    "# Förklaring: vi känner till sannolikheten och söker värdet på x-axeln i en normalfördelning.\n",
    "# Då använder man \"percent point function\", ppf. Den är inversen av cdf, cumulative distribution function\"\n",
    "# Eftersom det är standard normafördelning så behöver vi inte ange medelvärde eller std."
   ]
  },
  {
   "cell_type": "markdown",
   "metadata": {},
   "source": [
    "3d. Låt X vara en normalfördelad slumpvariabel, med ett medelvärde på 12, och en standardavvikelse på 2. Uttryck sannolikheten att X antar värden mindre än 10, samt skriv en kodrad i SciPy för att beräkna sannolikheten. Antag att du redan importerat alla de fördelningar vi talat om i kursen. Inget uträknat svar krävs (2p)"
   ]
  },
  {
   "cell_type": "code",
   "execution_count": 16,
   "metadata": {},
   "outputs": [
    {
     "data": {
      "text/plain": [
       "0.15865525393145707"
      ]
     },
     "execution_count": 16,
     "metadata": {},
     "output_type": "execute_result"
    }
   ],
   "source": [
    "scs.norm.cdf(x=10, loc=12, scale=2)\n",
    "# Förklaring: vi känner till x-värdet, medelvärdet och std. För att beräkna sannolikheten, använd cumulative distribution function, cdf."
   ]
  },
  {
   "cell_type": "markdown",
   "metadata": {},
   "source": [
    "3e. Du arbetar med att sälja plastlådor, och vet att det är 50% sannolikhet att du når försäljningsmålet och säljer fler än 12 lådor per dag. Nu vill du beräkna sannolikheten att du uppnår den försäljningen 4 dagar på en vecka. Låt X vara en slumpvariabel som räknar antalet dagar i veckan där du uppnår försäljningsmålet (Räkna på 7 dagar i en vecka). Skriv ett utttryck för ovanstående sannolikhet, samt skriv en kodrad för att beräkna den med hjälp av SciPy. Antag att du redan importerat alla de fördelningar vi talat om i kursen. Inget uträknat svar krävs. (3p)"
   ]
  },
  {
   "cell_type": "code",
   "execution_count": 19,
   "metadata": {},
   "outputs": [
    {
     "data": {
      "text/plain": [
       "0.27343749999999983"
      ]
     },
     "execution_count": 19,
     "metadata": {},
     "output_type": "execute_result"
    }
   ],
   "source": [
    "scs.binom.pmf(k=4, n=7, p=0.5)\n",
    "# Förklaring: det är en binomialfördelning, men sannolikheten 0.5 och antalet dagar = 7. Beräkna P(X=4).\n",
    "# Eftersom det är en diskret fördelning ska man använda probability mass function."
   ]
  },
  {
   "cell_type": "markdown",
   "metadata": {},
   "source": [
    "## Övningstenta 2:"
   ]
  },
  {
   "cell_type": "markdown",
   "metadata": {},
   "source": [
    "3c. Rektorn antar att skolkandet är en normalfördelad slumpvariabel 𝑋, med ett medelvärde på 67, och en standardavvikelse på 36. Uttryck sannolikheten att skolkandet en given månad är högre än 75 timmar, samt skriv en kodrad i SciPy som beräknar den. Antag att du redan importerat alla de fördelningar vi talat om i kursen under deras respektive fördelningsnamn. Inget uträknat svar krävs. (3p)"
   ]
  },
  {
   "cell_type": "code",
   "execution_count": 22,
   "metadata": {},
   "outputs": [
    {
     "data": {
      "text/plain": [
       "0.4120704478709426"
      ]
     },
     "execution_count": 22,
     "metadata": {},
     "output_type": "execute_result"
    }
   ],
   "source": [
    "1 - scs.norm.cdf(x=75, loc=67, scale=36)\n",
    "# förklaring: använder cumulative distribution function. Den beräknar sannolikheten när vi har ett x-värde och information om medelvärde och standardavvikelse."
   ]
  },
  {
   "cell_type": "markdown",
   "metadata": {},
   "source": [
    "3d. Enligt en annan del av undersökningen visar det sig att i medeltal 32 studenter skolkar varje månad. Låt X vara en slumpvariabel som räknar hur många studenter som skolkar en given månad. Uttryck sannolikheten att högst 30 studenter skolkar en given månad, samt skriv en kodrad i SciPy som beräknar den. Antag att du redan importerat alla de fördelningar vi talat om i kursen under deras respektive fördelningsnamn. Inget uträknat svar krävs. (3p)"
   ]
  },
  {
   "cell_type": "code",
   "execution_count": 26,
   "metadata": {},
   "outputs": [
    {
     "data": {
      "text/plain": [
       "0.4061480181077554"
      ]
     },
     "execution_count": 26,
     "metadata": {},
     "output_type": "execute_result"
    }
   ],
   "source": [
    "scs.poisson.cdf(30, 32)\n",
    "# förklaring: man antar att varje elev har sammma sannolikhet att skolka, samt det är tidsbegränsat => poisson fördelat.\n",
    "# Använder cumulative distribution function, med värdet 30 samt väntevärdet 32."
   ]
  },
  {
   "cell_type": "markdown",
   "metadata": {},
   "source": [
    "## Lite blandat"
   ]
  },
  {
   "cell_type": "markdown",
   "metadata": {},
   "source": [
    "Geometriska fördelningen."
   ]
  },
  {
   "cell_type": "code",
   "execution_count": 29,
   "metadata": {},
   "outputs": [
    {
     "data": {
      "text/plain": [
       "0.14699999999999996"
      ]
     },
     "execution_count": 29,
     "metadata": {},
     "output_type": "execute_result"
    }
   ],
   "source": [
    "from scipy.stats import geom # Importera geometriska fördelningen med SciPy\n",
    "\n",
    "# Exempel från boken sidan 97: vad är sannolikheten att man klarar tentan på försök 3 om sannolikheten att klara tentan är 0.3, dvs P(X=3)?\n",
    "scs.geom.pmf(k=3, p=0.3)"
   ]
  }
 ],
 "metadata": {
  "kernelspec": {
   "display_name": "Statistiska_Metoder-aoCQ10vs",
   "language": "python",
   "name": "python3"
  },
  "language_info": {
   "codemirror_mode": {
    "name": "ipython",
    "version": 3
   },
   "file_extension": ".py",
   "mimetype": "text/x-python",
   "name": "python",
   "nbconvert_exporter": "python",
   "pygments_lexer": "ipython3",
   "version": "3.11.5"
  }
 },
 "nbformat": 4,
 "nbformat_minor": 2
}
